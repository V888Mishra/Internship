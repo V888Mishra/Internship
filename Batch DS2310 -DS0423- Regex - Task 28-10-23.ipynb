{
 "cells": [
  {
   "cell_type": "code",
   "execution_count": 1,
   "id": "21a4c888",
   "metadata": {},
   "outputs": [],
   "source": [
    "#Regular expression Task:-"
   ]
  },
  {
   "cell_type": "code",
   "execution_count": 3,
   "id": "28ddc58b",
   "metadata": {},
   "outputs": [],
   "source": [
    "# Q1 write a python program to replace all occurance of space ,comma,or dot with a colon.\n",
    "# sampe text - 'Python Exercises, PHP exerecises.'\n",
    "# Expected output - Python:Exercises::PHP exerecises:\n",
    "# Answer attached below"
   ]
  },
  {
   "cell_type": "code",
   "execution_count": 56,
   "id": "a1bc99de",
   "metadata": {},
   "outputs": [],
   "source": [
    "import regex as re"
   ]
  },
  {
   "cell_type": "code",
   "execution_count": 5,
   "id": "372e2e25",
   "metadata": {},
   "outputs": [
    {
     "name": "stdout",
     "output_type": "stream",
     "text": [
      "Python:Exerecises::PHP:exercises:\n"
     ]
    }
   ],
   "source": [
    "string ='Python Exerecises, PHP exercises.'\n",
    "x=re.sub(r'[ ,.]',\":\",string)\n",
    "print (x)"
   ]
  },
  {
   "cell_type": "code",
   "execution_count": 7,
   "id": "5aaf1384",
   "metadata": {},
   "outputs": [],
   "source": [
    "#Q2 create a datafream using the dictionary below and remove everything from the columns except words"
   ]
  },
  {
   "cell_type": "code",
   "execution_count": 41,
   "id": "ef1e9a5a",
   "metadata": {},
   "outputs": [],
   "source": [
    "import pandas as pd"
   ]
  },
  {
   "cell_type": "code",
   "execution_count": 47,
   "id": "a475ad40",
   "metadata": {},
   "outputs": [],
   "source": [
    "data={'SUMMARY' : ['hello, world!', 'XXXXX test', '123four, five:; six...']}\n",
    "df=pd.DataFrame(data)"
   ]
  },
  {
   "cell_type": "code",
   "execution_count": 48,
   "id": "09212ca1",
   "metadata": {},
   "outputs": [
    {
     "name": "stdout",
     "output_type": "stream",
     "text": [
      "         SUMMARY\n",
      "0    hello world\n",
      "1     XXXXX test\n",
      "2  four five six\n"
     ]
    }
   ],
   "source": [
    "df['SUMMARY']=df['SUMMARY'].str.replace(r'[^a-zA-Z\\s]','',regex=True)\n",
    "\n",
    "print(df)"
   ]
  },
  {
   "cell_type": "code",
   "execution_count": 50,
   "id": "c25eaa8b",
   "metadata": {},
   "outputs": [],
   "source": [
    "#Q3 create function in a python to find all words that are atleast 4 character long in a string the use of re.compile method is \n",
    "#mandetory\n",
    "\n",
    "\n",
    "String1='Yoga is a type of exercise in which you move your body into various positions in order to become more fit or flexible, to improve your breathing, and to relax your mind'\n",
    "\n",
    "def long_word(String1):\n",
    "    \n",
    "    pattern=re.compile(r'\\b\\w{4,\\b}')\n",
    "    \n",
    "    long_word=pattern.findall(String1)\n",
    "    \n",
    "    return long_word\n",
    "    "
   ]
  },
  {
   "cell_type": "code",
   "execution_count": 175,
   "id": "c830788b",
   "metadata": {},
   "outputs": [
    {
     "name": "stdout",
     "output_type": "stream",
     "text": [
      "['Yoga', 'type', 'exer', 'cise', 'whic', 'move', 'your', 'body', 'into', 'vari', 'posi', 'tion', 'orde', 'beco', 'more', 'flex', 'ible', 'impr', 'your', 'brea', 'thin', 'rela', 'your', 'mind']\n"
     ]
    }
   ],
   "source": [
    "data=regex_pattern.findall(String1)\n",
    "print(data)"
   ]
  },
  {
   "cell_type": "code",
   "execution_count": 59,
   "id": "dbe95bad",
   "metadata": {},
   "outputs": [
    {
     "name": "stdout",
     "output_type": "stream",
     "text": [
      "['Yoga', 'type', 'which', 'you', 'move', 'your', 'body', 'into', 'order', 'more', 'fit', 'your', 'and', 'relax', 'your', 'mind']\n"
     ]
    }
   ],
   "source": [
    "#Q4 create function in a python to find all words that are atleast theree,foru,five character long in a string the use of re.compile method is \n",
    "#mandetory\n",
    "\n",
    "Text_sample='Yoga is a type of exercise in which you move your body into various positions in order to become more fit or flexible, to improve your breathing, and to relax your mind'\n",
    "\n",
    "def find_word(string):\n",
    "    pattern=re.compile(r'\\b\\w{3,5}\\b')\n",
    "    matches=pattern.findall(string)\n",
    "    return matches\n",
    "                       \n",
    "Text_sample='Yoga is a type of exercise in which you move your body into various positions in order to become more fit or flexible, to improve your breathing, and to relax your mind'\n",
    "\n",
    "result=find_word(Text_sample)\n",
    "print(result)\n"
   ]
  },
  {
   "cell_type": "code",
   "execution_count": 195,
   "id": "62569b89",
   "metadata": {},
   "outputs": [],
   "source": [
    "##Question 5- Create a function in Python to remove the parenthesis in a list of strings. The use of the \n",
    "##re.compile() method is mandatory."
   ]
  },
  {
   "cell_type": "code",
   "execution_count": 67,
   "id": "677b951a",
   "metadata": {},
   "outputs": [],
   "source": [
    "\n",
    "def remove_para(strings):\n",
    "    pattern=re.compile(r'\\s\\(|\\)*?')\n",
    "    modified_strings = []\n",
    "    for i in strings:\n",
    "        modified_string=re.sub(pattern,\"\",i)\n",
    "        modified_strings.append(modified_string)\n",
    "        return modified_string\n",
    "                    "
   ]
  },
  {
   "cell_type": "code",
   "execution_count": 68,
   "id": "0bd769c8",
   "metadata": {},
   "outputs": [
    {
     "name": "stdout",
     "output_type": "stream",
     "text": [
      "example.com\n"
     ]
    }
   ],
   "source": [
    "Sample_Text= [\"example (.com)\", \"hr@fliprobo (.com)\", \"github (.com)\", \"Hello (Data Science World)\", \"Data (Scientist)\"]\n",
    "\n",
    "data=remove_para(Sample_Text)\n",
    "print(data)"
   ]
  },
  {
   "cell_type": "code",
   "execution_count": null,
   "id": "f26a9707",
   "metadata": {},
   "outputs": [],
   "source": [
    "##Question 6- Write a python program to remove the parenthesis \n",
    "##area from the text stored in the text file using Regular Expression.\n",
    "## Sample Text: [\"example (.com)\", \"hr@fliprobo (.com)\", \"github (.com)\", \"Hello (Data Science World)\", \"Data (Scientist)\"]"
   ]
  },
  {
   "cell_type": "code",
   "execution_count": 277,
   "id": "61828a04",
   "metadata": {},
   "outputs": [],
   "source": [
    "##Text= [\"example (.com)\", \"hr@fliprobo (.com)\", \"github (.com)\", \"Hello (Data Science World)\", \"Data (Scientist)\"]"
   ]
  },
  {
   "cell_type": "code",
   "execution_count": 309,
   "id": "2b329093",
   "metadata": {},
   "outputs": [
    {
     "name": "stdout",
     "output_type": "stream",
     "text": [
      "Text1= [\"example\", \"hr@fliprobo\", \"github\", \"Hello\", \"Data\"]\n"
     ]
    }
   ],
   "source": [
    "import regex as re\n",
    "\n",
    "with open (\"C:/Users/DELL/OneDrive/Desktop/filename.txt\") as file:\n",
    "    for Text1 in file:\n",
    "        new_text=re.sub(r'\\s*\\([^)]*\\)',\"\",Text1)\n",
    "        print(new_text)"
   ]
  },
  {
   "cell_type": "code",
   "execution_count": null,
   "id": "24a91fb0",
   "metadata": {},
   "outputs": [],
   "source": [
    "##Question 7- Write a regular expression in Python to split a string into uppercase letters."
   ]
  },
  {
   "cell_type": "code",
   "execution_count": 312,
   "id": "67da25b9",
   "metadata": {},
   "outputs": [
    {
     "name": "stdout",
     "output_type": "stream",
     "text": [
      "['Importance', 'Of', 'Regular', 'Expressions', 'In', 'Python']\n"
     ]
    }
   ],
   "source": [
    "Sample_text= 'ImportanceOfRegularExpressionsInPython'\n",
    "\n",
    "x=re.findall(r'[A-Z][^A-Z]*',Sample_text)\n",
    "print(x)\n"
   ]
  },
  {
   "cell_type": "code",
   "execution_count": 14,
   "id": "406b5ec0",
   "metadata": {},
   "outputs": [
    {
     "name": "stdout",
     "output_type": "stream",
     "text": [
      "RegularExpression 1IsAn 2ImportantTopic 3InPython\n"
     ]
    }
   ],
   "source": [
    "##Question 8- Create a function in python to insert spaces between words starting with numbers.\n",
    "\n",
    "def ins_spa(Text):\n",
    "    x=re.sub(r'(\\d)([A-Za-z])',r' \\1\\2',Text)\n",
    "    return x\n",
    "\n",
    "text='RegularExpression1IsAn2ImportantTopic3InPython'\n",
    "\n",
    "result=ins_spa(text)\n",
    "print(result)\n"
   ]
  },
  {
   "cell_type": "code",
   "execution_count": 15,
   "id": "024e2281",
   "metadata": {},
   "outputs": [
    {
     "name": "stdout",
     "output_type": "stream",
     "text": [
      "RegularExpression 1 IsAn 2 ImportantTopic 3 InPython\n"
     ]
    }
   ],
   "source": [
    "##Question 9- Create a function in python to insert spaces between words starting with capital letters or with numbers.\n",
    "\n",
    "\n",
    "def ins_spa(Text):\n",
    "    x=re.sub(r'(\\d)([A-Za-z])',r' \\1 \\2',Text)\n",
    "    return x\n",
    "\n",
    "text='RegularExpression1IsAn2ImportantTopic3InPython'\n",
    "\n",
    "result=ins_spa(text)\n",
    "print(result)"
   ]
  },
  {
   "cell_type": "code",
   "execution_count": null,
   "id": "342d3647",
   "metadata": {},
   "outputs": [],
   "source": []
  },
  {
   "cell_type": "code",
   "execution_count": 10,
   "id": "2e891c03",
   "metadata": {},
   "outputs": [
    {
     "data": {
      "text/html": [
       "<div>\n",
       "<style scoped>\n",
       "    .dataframe tbody tr th:only-of-type {\n",
       "        vertical-align: middle;\n",
       "    }\n",
       "\n",
       "    .dataframe tbody tr th {\n",
       "        vertical-align: top;\n",
       "    }\n",
       "\n",
       "    .dataframe thead th {\n",
       "        text-align: right;\n",
       "    }\n",
       "</style>\n",
       "<table border=\"1\" class=\"dataframe\">\n",
       "  <thead>\n",
       "    <tr style=\"text-align: right;\">\n",
       "      <th></th>\n",
       "      <th>Country</th>\n",
       "      <th>Region</th>\n",
       "      <th>Happiness Rank</th>\n",
       "      <th>Happiness Score</th>\n",
       "      <th>Standard Error</th>\n",
       "      <th>Economy (GDP per Capita)</th>\n",
       "      <th>Family</th>\n",
       "      <th>Health (Life Expectancy)</th>\n",
       "      <th>Freedom</th>\n",
       "      <th>Trust (Government Corruption)</th>\n",
       "      <th>Generosity</th>\n",
       "      <th>Dystopia Residual</th>\n",
       "    </tr>\n",
       "  </thead>\n",
       "  <tbody>\n",
       "    <tr>\n",
       "      <th>0</th>\n",
       "      <td>Switzerland</td>\n",
       "      <td>Western Europe</td>\n",
       "      <td>1</td>\n",
       "      <td>7.587</td>\n",
       "      <td>0.03411</td>\n",
       "      <td>1.39651</td>\n",
       "      <td>1.34951</td>\n",
       "      <td>0.94143</td>\n",
       "      <td>0.66557</td>\n",
       "      <td>0.41978</td>\n",
       "      <td>0.29678</td>\n",
       "      <td>2.51738</td>\n",
       "    </tr>\n",
       "    <tr>\n",
       "      <th>1</th>\n",
       "      <td>Iceland</td>\n",
       "      <td>Western Europe</td>\n",
       "      <td>2</td>\n",
       "      <td>7.561</td>\n",
       "      <td>0.04884</td>\n",
       "      <td>1.30232</td>\n",
       "      <td>1.40223</td>\n",
       "      <td>0.94784</td>\n",
       "      <td>0.62877</td>\n",
       "      <td>0.14145</td>\n",
       "      <td>0.43630</td>\n",
       "      <td>2.70201</td>\n",
       "    </tr>\n",
       "    <tr>\n",
       "      <th>2</th>\n",
       "      <td>Denmark</td>\n",
       "      <td>Western Europe</td>\n",
       "      <td>3</td>\n",
       "      <td>7.527</td>\n",
       "      <td>0.03328</td>\n",
       "      <td>1.32548</td>\n",
       "      <td>1.36058</td>\n",
       "      <td>0.87464</td>\n",
       "      <td>0.64938</td>\n",
       "      <td>0.48357</td>\n",
       "      <td>0.34139</td>\n",
       "      <td>2.49204</td>\n",
       "    </tr>\n",
       "    <tr>\n",
       "      <th>3</th>\n",
       "      <td>Norway</td>\n",
       "      <td>Western Europe</td>\n",
       "      <td>4</td>\n",
       "      <td>7.522</td>\n",
       "      <td>0.03880</td>\n",
       "      <td>1.45900</td>\n",
       "      <td>1.33095</td>\n",
       "      <td>0.88521</td>\n",
       "      <td>0.66973</td>\n",
       "      <td>0.36503</td>\n",
       "      <td>0.34699</td>\n",
       "      <td>2.46531</td>\n",
       "    </tr>\n",
       "    <tr>\n",
       "      <th>4</th>\n",
       "      <td>Canada</td>\n",
       "      <td>North America</td>\n",
       "      <td>5</td>\n",
       "      <td>7.427</td>\n",
       "      <td>0.03553</td>\n",
       "      <td>1.32629</td>\n",
       "      <td>1.32261</td>\n",
       "      <td>0.90563</td>\n",
       "      <td>0.63297</td>\n",
       "      <td>0.32957</td>\n",
       "      <td>0.45811</td>\n",
       "      <td>2.45176</td>\n",
       "    </tr>\n",
       "  </tbody>\n",
       "</table>\n",
       "</div>"
      ],
      "text/plain": [
       "       Country          Region  Happiness Rank  Happiness Score  \\\n",
       "0  Switzerland  Western Europe               1            7.587   \n",
       "1      Iceland  Western Europe               2            7.561   \n",
       "2      Denmark  Western Europe               3            7.527   \n",
       "3       Norway  Western Europe               4            7.522   \n",
       "4       Canada   North America               5            7.427   \n",
       "\n",
       "   Standard Error  Economy (GDP per Capita)   Family  \\\n",
       "0         0.03411                   1.39651  1.34951   \n",
       "1         0.04884                   1.30232  1.40223   \n",
       "2         0.03328                   1.32548  1.36058   \n",
       "3         0.03880                   1.45900  1.33095   \n",
       "4         0.03553                   1.32629  1.32261   \n",
       "\n",
       "   Health (Life Expectancy)  Freedom  Trust (Government Corruption)  \\\n",
       "0                   0.94143  0.66557                        0.41978   \n",
       "1                   0.94784  0.62877                        0.14145   \n",
       "2                   0.87464  0.64938                        0.48357   \n",
       "3                   0.88521  0.66973                        0.36503   \n",
       "4                   0.90563  0.63297                        0.32957   \n",
       "\n",
       "   Generosity  Dystopia Residual  \n",
       "0     0.29678            2.51738  \n",
       "1     0.43630            2.70201  \n",
       "2     0.34139            2.49204  \n",
       "3     0.34699            2.46531  \n",
       "4     0.45811            2.45176  "
      ]
     },
     "execution_count": 10,
     "metadata": {},
     "output_type": "execute_result"
    }
   ],
   "source": [
    "##Question 10- Use the github link below to read the data and create a dataframe. \n",
    "#After creating the dataframe extract the first 6 letters of each country and store in the \n",
    "#dataframe under a new column called first_five_letters.\n",
    "\n",
    "import numpy as np\n",
    "import pandas as pd\n",
    "\n",
    "\n",
    "data=pd.read_csv('https://raw.githubusercontent.com/dsrscientist/DSData/master/happiness_score_dataset.csv')\n",
    "data.head()"
   ]
  },
  {
   "cell_type": "code",
   "execution_count": 331,
   "id": "690cc831",
   "metadata": {},
   "outputs": [
    {
     "data": {
      "text/plain": [
       "(158, 12)"
      ]
     },
     "execution_count": 331,
     "metadata": {},
     "output_type": "execute_result"
    }
   ],
   "source": [
    "data.shape"
   ]
  },
  {
   "cell_type": "code",
   "execution_count": 4,
   "id": "0fd1fc83",
   "metadata": {},
   "outputs": [
    {
     "name": "stdout",
     "output_type": "stream",
     "text": [
      "         Country                           Region  Happiness Rank  \\\n",
      "0    Switzerland                   Western Europe               1   \n",
      "1        Iceland                   Western Europe               2   \n",
      "2        Denmark                   Western Europe               3   \n",
      "3         Norway                   Western Europe               4   \n",
      "4         Canada                    North America               5   \n",
      "..           ...                              ...             ...   \n",
      "153       Rwanda               Sub-Saharan Africa             154   \n",
      "154        Benin               Sub-Saharan Africa             155   \n",
      "155        Syria  Middle East and Northern Africa             156   \n",
      "156      Burundi               Sub-Saharan Africa             157   \n",
      "157         Togo               Sub-Saharan Africa             158   \n",
      "\n",
      "     Happiness Score  Standard Error  Economy (GDP per Capita)   Family  \\\n",
      "0              7.587         0.03411                   1.39651  1.34951   \n",
      "1              7.561         0.04884                   1.30232  1.40223   \n",
      "2              7.527         0.03328                   1.32548  1.36058   \n",
      "3              7.522         0.03880                   1.45900  1.33095   \n",
      "4              7.427         0.03553                   1.32629  1.32261   \n",
      "..               ...             ...                       ...      ...   \n",
      "153            3.465         0.03464                   0.22208  0.77370   \n",
      "154            3.340         0.03656                   0.28665  0.35386   \n",
      "155            3.006         0.05015                   0.66320  0.47489   \n",
      "156            2.905         0.08658                   0.01530  0.41587   \n",
      "157            2.839         0.06727                   0.20868  0.13995   \n",
      "\n",
      "     Health (Life Expectancy)  Freedom  Trust (Government Corruption)  \\\n",
      "0                     0.94143  0.66557                        0.41978   \n",
      "1                     0.94784  0.62877                        0.14145   \n",
      "2                     0.87464  0.64938                        0.48357   \n",
      "3                     0.88521  0.66973                        0.36503   \n",
      "4                     0.90563  0.63297                        0.32957   \n",
      "..                        ...      ...                            ...   \n",
      "153                   0.42864  0.59201                        0.55191   \n",
      "154                   0.31910  0.48450                        0.08010   \n",
      "155                   0.72193  0.15684                        0.18906   \n",
      "156                   0.22396  0.11850                        0.10062   \n",
      "157                   0.28443  0.36453                        0.10731   \n",
      "\n",
      "     Generosity  Dystopia Residual first_five_letters  \n",
      "0       0.29678            2.51738             Switze  \n",
      "1       0.43630            2.70201             Icelan  \n",
      "2       0.34139            2.49204             Denmar  \n",
      "3       0.34699            2.46531             Norway  \n",
      "4       0.45811            2.45176             Canada  \n",
      "..          ...                ...                ...  \n",
      "153     0.22628            0.67042             Rwanda  \n",
      "154     0.18260            1.63328              Benin  \n",
      "155     0.47179            0.32858              Syria  \n",
      "156     0.19727            1.83302             Burund  \n",
      "157     0.16681            1.56726               Togo  \n",
      "\n",
      "[158 rows x 13 columns]\n"
     ]
    }
   ],
   "source": [
    "pattern= r'(^.{1,6})'\n",
    "data['first_five_letters']=data['Country'].str.extract(r'(^.{1,6})')\n",
    "\n",
    "print(data)"
   ]
  },
  {
   "cell_type": "code",
   "execution_count": 26,
   "id": "76c9b65b",
   "metadata": {},
   "outputs": [],
   "source": [
    "#Question 11- Write a Python program to match a string that contains only upper and lowercase letters, \n",
    "#numbers, and underscores.\n",
    "\n",
    "def abcd_string(string):\n",
    "    pattern= r'^[a-zA-Z0-9_]+$'\n",
    "    if re.match(pattern,string):\n",
    "        print(\"string match sucessfully\")\n",
    "    else:\n",
    "        print(\"String does not match properly\")"
   ]
  },
  {
   "cell_type": "code",
   "execution_count": 28,
   "id": "ccbff233",
   "metadata": {},
   "outputs": [
    {
     "name": "stdout",
     "output_type": "stream",
     "text": [
      "String does not match properly\n",
      "string match sucessfully\n"
     ]
    }
   ],
   "source": [
    "Result= \"Hi vyanky\"\n",
    "abcd_string(Result)\n",
    "\n",
    "Result1 = \"Hi_vyanky888\"\n",
    "abcd_string(Result1)"
   ]
  },
  {
   "cell_type": "code",
   "execution_count": 33,
   "id": "bd052c10",
   "metadata": {},
   "outputs": [
    {
     "name": "stdout",
     "output_type": "stream",
     "text": [
      "True\n",
      "False\n"
     ]
    }
   ],
   "source": [
    "#Question 12- Write a Python program where a string will start with a specific number. \n",
    "\n",
    "string= \"888 vyanky doing data science\"\n",
    "string2= \"123 vynaky doing data science\"\n",
    "\n",
    "print(string.startswith('888'))\n",
    "print(string2.startswith('888'))"
   ]
  },
  {
   "cell_type": "code",
   "execution_count": 41,
   "id": "266fd108",
   "metadata": {},
   "outputs": [
    {
     "name": "stdout",
     "output_type": "stream",
     "text": [
      "216.8.2.808\n"
     ]
    }
   ],
   "source": [
    "#Question 13- Write a Python program to remove leading zeros from an IP address\n",
    "\n",
    "\n",
    "ip=\"216.08.002.808\"\n",
    "\n",
    "string=re.sub(r'\\.[0]*','.',ip)\n",
    "print (string)"
   ]
  },
  {
   "cell_type": "code",
   "execution_count": 67,
   "id": "610513d8",
   "metadata": {},
   "outputs": [
    {
     "name": "stdout",
     "output_type": "stream",
     "text": [
      "Match August 15th 1947\n"
     ]
    }
   ],
   "source": [
    "with open(\"C:/Users/DELL/OneDrive/Desktop/file1.txt\")as file:\n",
    "    text=file.read()\n",
    "    \n",
    "pattern=re.compile(r'\\b(?:January|February|March|April|May|Jun|July|August|September|October|November|December)\\s\\d{1,2}(st|nd|rd|th)\\s\\d{4}\\b')\n",
    "match=re.search(pattern,text)\n",
    "    \n",
    "if match:\n",
    "        print (\"Match\",match.group(0))\n",
    "else:\n",
    "        print(\"Not match.\")  "
   ]
  },
  {
   "cell_type": "code",
   "execution_count": 82,
   "id": "ad3ebc97",
   "metadata": {},
   "outputs": [
    {
     "name": "stdout",
     "output_type": "stream",
     "text": [
      "searching \"fox\" in \"The quick brown fox jumps over the boy\" ->\n",
      "matching sucessfull\n",
      "searching \"dog\" in \"The quick brown fox jumps over the boy\" ->\n",
      "No Match\n",
      "searching \"horse\" in \"The quick brown fox jumps over the boy\" ->\n",
      "No Match\n"
     ]
    }
   ],
   "source": [
    "#Question 15- Write a Python program to search some literals strings in a string. \n",
    "#Sample text : 'The quick brown fox jumps over the lazy dog.'\n",
    "#Searched words : 'fox', 'dog', 'horse'\n",
    "\n",
    "\n",
    "patterns=['fox','dog','horse']\n",
    "string='The quick brown fox jumps over the boy'\n",
    "\n",
    "for pattern in patterns:\n",
    "    print('searching \"%s\" in \"%s\" ->' %(pattern, string),)\n",
    "    if re.search(pattern, string):\n",
    "        print (\"matching sucessfull\")\n",
    "    else:\n",
    "        print (\"No Match\")\n",
    "\n"
   ]
  },
  {
   "cell_type": "code",
   "execution_count": 92,
   "id": "430800fc",
   "metadata": {},
   "outputs": [
    {
     "name": "stdout",
     "output_type": "stream",
     "text": [
      "Found \"fox\" in \"The quick brown fox jumps over the lazy boy.\" from 16 to 19\n"
     ]
    }
   ],
   "source": [
    "#Question 16- Write a Python program to search a literals string in a string and also \n",
    "#find the location within the original string where the pattern occurs\n",
    "\n",
    "pattern ='fox'\n",
    "string ='The quick brown fox jumps over the lazy boy.'\n",
    "match = re.search(pattern, string)\n",
    "s = match.start()\n",
    "e = match.end()\n",
    "print('Found \"%s\" in \"%s\" from %d to %d' % (match.re.pattern, match.string, s, e))\n",
    "\n"
   ]
  },
  {
   "cell_type": "code",
   "execution_count": 97,
   "id": "021d844a",
   "metadata": {},
   "outputs": [
    {
     "name": "stdout",
     "output_type": "stream",
     "text": [
      "Found \"exercises\" \n",
      "Found \"exercises\" \n",
      "Found \"exercises\" \n"
     ]
    }
   ],
   "source": [
    "#Question 17- Write a Python program to find the substrings within a string.\n",
    "#Sample text : 'Python exercises, PHP exercises, C# exercises'\n",
    "\n",
    "\n",
    "Sample_text = 'Python exercises, PHP exercises, C# exercises'\n",
    "Pattern = 'exercises'\n",
    "\n",
    "for match in re.findall(Pattern, Sample_text):\n",
    "    print('Found \"%s\" ' % match )\n",
    "    \n"
   ]
  },
  {
   "cell_type": "code",
   "execution_count": 103,
   "id": "43fafd7f",
   "metadata": {},
   "outputs": [
    {
     "name": "stdout",
     "output_type": "stream",
     "text": [
      "Found \"n August \" at 7:16\n",
      "Found \"947 that \" at 22:31\n",
      "Found \" was decl\" at 36:45\n"
     ]
    }
   ],
   "source": [
    "#Question 18- Write a Python program to find the occurrence and position of the substrings within a string.\n",
    "\n",
    "\n",
    "Sample_text = 'Python exercises, PHP exercises, C# exercises'\n",
    "Pattern = 'exercises'\n",
    "\n",
    "\n",
    "for match in re.finditer(Pattern, Sample_text):\n",
    "    s= match.start()\n",
    "    e= match.end()\n",
    "    print('Found \"%s\" at %d:%d' %(text[s:e], s,e))\n",
    "\n"
   ]
  },
  {
   "cell_type": "code",
   "execution_count": 106,
   "id": "c4b0d134",
   "metadata": {},
   "outputs": [
    {
     "name": "stdout",
     "output_type": "stream",
     "text": [
      "actual date= 2024-01-05\n",
      "date in format= 05-01-2024\n"
     ]
    }
   ],
   "source": [
    "#Question 19- Write a Python program to convert a date of yyyy-mm-dd format to dd-mm-yyyy format.\n",
    "\n",
    "def date_format (dt):\n",
    "    return re.sub(r'(\\d{4})-(\\d{1,2})-(\\d{1,2})','\\\\3-\\\\2-\\\\1',dt)\n",
    "\n",
    "date=\"2024-01-05\"\n",
    "print(\"actual date=\", date)\n",
    "print(\"date in format=\",date_format(date))\n",
    "\n"
   ]
  },
  {
   "cell_type": "code",
   "execution_count": 113,
   "id": "6d208b01",
   "metadata": {},
   "outputs": [
    {
     "name": "stdout",
     "output_type": "stream",
     "text": [
      "['01.12', '145.8', '3.01', '27.25', '0.25']\n"
     ]
    }
   ],
   "source": [
    "#Question 20- Create a function in python to find all decimal numbers with a precision of 1 or 2 in a string.\n",
    "#The use of the re.compile() method is mandatory.\n",
    "#Sample Text: \"01.12 0132.123 2.31875 145.8 3.01 27.25 0.25\"\n",
    "#Expected Output: ['01.12', '145.8', '3.01', '27.25', '0.25']\n",
    "\n",
    "\n",
    "def decimal_no(string):\n",
    "    pattern=re.compile(r'\\d+\\.\\d{1,2}\\b')\n",
    "    result=re.findall(pattern,string)\n",
    "    return result\n",
    "\n",
    "Sample_Text= \"01.12 0132.123 2.31875 145.8 3.01 27.25 0.25\"\n",
    "\n",
    "x=decimal_no(Sample_Text)\n",
    "\n",
    "print(x)"
   ]
  },
  {
   "cell_type": "code",
   "execution_count": 120,
   "id": "58b40b58",
   "metadata": {},
   "outputs": [
    {
     "name": "stdout",
     "output_type": "stream",
     "text": [
      "10\n",
      "location:- 32\n"
     ]
    }
   ],
   "source": [
    "#Question 21- Write a Python program to separate and print the numbers and their position of a given string.\n",
    "\n",
    "text= \"i am vyankatesh Mishra , i have 10 years of experiance in MIS and reporting analyst role\"\n",
    "\n",
    "for number in re.finditer(\"\\d+\", text):\n",
    "    print(number.group(0))\n",
    "    print(\"location:-\", number.start())"
   ]
  },
  {
   "cell_type": "code",
   "execution_count": 138,
   "id": "e3240826",
   "metadata": {},
   "outputs": [
    {
     "name": "stdout",
     "output_type": "stream",
     "text": [
      "highest value 950\n"
     ]
    }
   ],
   "source": [
    "#Question 22- Write a regular expression in python program to extract maximum/largest numeric value from a string.\n",
    "\n",
    "Sample_Text= 'My marks in each semester are: 947, 896, 926, 524, 734, 950, 642'\n",
    "\n",
    "def max_number(string):\n",
    "    number=re.findall(r'\\b\\d+\\b',string)\n",
    "    max_value=max(map(int,number)) if number else none\n",
    "    return max_value\n",
    "\n",
    "max_value=max_number(Sample_Text)\n",
    "print( \"highest value\",max_value)\n",
    "    \n"
   ]
  },
  {
   "cell_type": "code",
   "execution_count": 148,
   "id": "a8324291",
   "metadata": {},
   "outputs": [
    {
     "name": "stdout",
     "output_type": "stream",
     "text": [
      "Regular Expression Is An Important Topic In Python\n"
     ]
    }
   ],
   "source": [
    "#Question 23- Create a function in python to insert spaces between words starting with capital letters.\n",
    "\n",
    "\n",
    "def add_space(string):\n",
    "    new_text=re.sub(r'([a-z])([A-Z])',r'\\1 \\2',string)\n",
    "    \n",
    "    return new_text\n",
    "\n",
    "Sample_Text ='RegularExpressionIsAnImportantTopicInPython'\n",
    "\n",
    "x=add_space(Sample_Text)\n",
    "print(x)\n"
   ]
  },
  {
   "cell_type": "code",
   "execution_count": 155,
   "id": "d1cbbc14",
   "metadata": {},
   "outputs": [
    {
     "name": "stdout",
     "output_type": "stream",
     "text": [
      "['Vyankatesh', 'Lavkumar']\n"
     ]
    }
   ],
   "source": [
    "#Question 24- Python regex to find sequences of one upper case letter followed by lower case letters\n",
    "\n",
    "text=\"Vyankatesh Lavkumar mishra\"\n",
    "\n",
    "pattern= r'[A-Z][a-z]+'\n",
    "\n",
    "match=re.findall(pattern,text)\n",
    "print(match)\n"
   ]
  },
  {
   "cell_type": "code",
   "execution_count": 168,
   "id": "299b8843",
   "metadata": {},
   "outputs": [
    {
     "name": "stdout",
     "output_type": "stream",
     "text": [
      "Hello hello world\n"
     ]
    }
   ],
   "source": [
    "#Question 25- Write a Python program to remove continuous duplicate words from Sentence using Regular Expression.\n",
    "\n",
    "import regex as re\n",
    "\n",
    "def remove_duplicate(text):\n",
    "    pattern=r'\\b(\\w+)(\\s\\1\\b)+'\n",
    "    x=re.sub(pattern,r'\\1',text)\n",
    "    return x\n",
    "\n",
    "string=\"Hello hello world world\"\n",
    "\n",
    "result= remove_duplicate(string)\n",
    "print(result)\n"
   ]
  },
  {
   "cell_type": "code",
   "execution_count": 4,
   "id": "b8c46e24",
   "metadata": {},
   "outputs": [],
   "source": [
    "#Question 26-  Write a python program using RegEx to accept string ending with alphanumeric character.\n",
    "\n",
    "def alpha_numeric(string):\n",
    "    pattern=r\"\\w$\"\n",
    "    match= re.search(pattern,string)\n",
    "    if match:\n",
    "        return True\n",
    "    else:\n",
    "        return False\n",
    "    "
   ]
  },
  {
   "cell_type": "code",
   "execution_count": 5,
   "id": "e28a8a7b",
   "metadata": {},
   "outputs": [
    {
     "name": "stdout",
     "output_type": "stream",
     "text": [
      "enter string:-vyanky888\n",
      "True\n"
     ]
    }
   ],
   "source": [
    "input_string=input(\"enter string:-\" )\n",
    "\n",
    "if alpha_numeric(input_string):\n",
    "    print(\"True\")\n",
    "else:\n",
    "    print (\"No\")"
   ]
  },
  {
   "cell_type": "code",
   "execution_count": 9,
   "id": "fbeb2244",
   "metadata": {},
   "outputs": [
    {
     "name": "stdout",
     "output_type": "stream",
     "text": [
      "['#Doltiwal', '#xyzabc', '#Demonetization']\n"
     ]
    }
   ],
   "source": [
    "#Question 27-Write a python program using RegEx to extract the hashtags.\n",
    "\n",
    "Text = \"\"\"RT @kapil_kausik: #Doltiwal I mean #xyzabc is \"hurt\" by #Demonetization as the same has rendered USELESS \n",
    "<ed><U+00A0><U+00BD><ed><U+00B1><U+0089> \"acquired funds\" No wo\"\"\"\n",
    "\n",
    "\n",
    "pattern=r'#\\w+'\n",
    "hashtag=re.findall(pattern,Text)\n",
    "print (hashtag)\n"
   ]
  },
  {
   "cell_type": "code",
   "execution_count": 20,
   "id": "811c8c3a",
   "metadata": {},
   "outputs": [
    {
     "name": "stdout",
     "output_type": "stream",
     "text": [
      "@Jags123456 Bharat band on 28??<ed><ed>Those who are protesting #demonetization are all different party leaders\n"
     ]
    }
   ],
   "source": [
    "#Question 28- Write a python program using RegEx to remove <U+..> like symbols\n",
    "#Check the below sample text, there are strange symbols something of the sort <U+..> all over the place. You need to come up with a general Regex expression that will cover all such symbols.\n",
    "\n",
    "string=\"@Jags123456 Bharat band on 28??<ed><U+00A0><U+00BD><ed><U+00B8><U+0082>Those who are protesting #demonetization are all different party leaders\"\n",
    "\n",
    "modified_text = re.sub(r\"<U\\+\\w{4}>\", \"\",string)\n",
    "\n",
    "print(modified_text)"
   ]
  },
  {
   "cell_type": "code",
   "execution_count": 38,
   "id": "13eedd0b",
   "metadata": {},
   "outputs": [
    {
     "name": "stdout",
     "output_type": "stream",
     "text": [
      "12-09-1992\n",
      "15-12-1999\n"
     ]
    }
   ],
   "source": [
    "#Question 29- Write a python program to extract dates from the text stored in the text file.\n",
    "#Sample Text: Ron was born on 12-09-1992 and he was admitted to school 15-12-1999.\n",
    "#Note- Store this sample text in the file and then extract dates.\n",
    "\n",
    "\n",
    "with open(\"C:/Users/DELL/OneDrive/Desktop/file2.txt\")as file:\n",
    "    text = file.read()\n",
    "    \n",
    "    pattern=r'\\d{2}-\\d{2}-\\d{4}'\n",
    "    dates=re.findall(pattern,text)\n",
    "    for date in dates:\n",
    "        print(date)"
   ]
  },
  {
   "cell_type": "code",
   "execution_count": 40,
   "id": "a8267d73",
   "metadata": {},
   "outputs": [
    {
     "name": "stdout",
     "output_type": "stream",
     "text": [
      " following example creates  ArrayList  a capacity   elements. 4 elements   added   ArrayList   ArrayList  trimmed accordingly.\n"
     ]
    }
   ],
   "source": [
    "#Question 30- Create a function in python to remove all words from a string of length between 2 and 4.\n",
    "#The use of the re.compile() method is mandatory.\n",
    "#Sample Text: \"The following example creates an ArrayList with a capacity of 50 elements. 4 elements are then added to the ArrayList and the ArrayList is trimmed accordingly.\"\n",
    "#Expected Output:  following example creates ArrayList a capacity elements. 4 elements added ArrayList ArrayList trimmed accordingly.\n",
    "\n",
    "\n",
    "def clear_word (string):\n",
    "    pattern =re.compile(r'\\b\\w{2,4}\\b')\n",
    "    x=re.sub(pattern,\"\",string)\n",
    "    return x\n",
    "\n",
    "Sample_Text=\"The following example creates an ArrayList with a capacity of 50 elements. 4 elements are then added to the ArrayList and the ArrayList is trimmed accordingly.\"\n",
    "\n",
    "result=clear_word(Sample_Text)\n",
    "print(result)"
   ]
  },
  {
   "cell_type": "code",
   "execution_count": null,
   "id": "b27cfa9a",
   "metadata": {},
   "outputs": [],
   "source": []
  },
  {
   "cell_type": "code",
   "execution_count": null,
   "id": "65808ed2",
   "metadata": {},
   "outputs": [],
   "source": []
  },
  {
   "cell_type": "code",
   "execution_count": null,
   "id": "f5afd6bf",
   "metadata": {},
   "outputs": [],
   "source": []
  },
  {
   "cell_type": "code",
   "execution_count": null,
   "id": "3d2e8b2f",
   "metadata": {},
   "outputs": [],
   "source": []
  },
  {
   "cell_type": "code",
   "execution_count": null,
   "id": "d254b4e3",
   "metadata": {},
   "outputs": [],
   "source": []
  },
  {
   "cell_type": "code",
   "execution_count": null,
   "id": "38c6f24b",
   "metadata": {},
   "outputs": [],
   "source": []
  },
  {
   "cell_type": "code",
   "execution_count": null,
   "id": "c268a082",
   "metadata": {},
   "outputs": [],
   "source": []
  }
 ],
 "metadata": {
  "kernelspec": {
   "display_name": "Python 3 (ipykernel)",
   "language": "python",
   "name": "python3"
  },
  "language_info": {
   "codemirror_mode": {
    "name": "ipython",
    "version": 3
   },
   "file_extension": ".py",
   "mimetype": "text/x-python",
   "name": "python",
   "nbconvert_exporter": "python",
   "pygments_lexer": "ipython3",
   "version": "3.10.9"
  }
 },
 "nbformat": 4,
 "nbformat_minor": 5
}
